{
 "cells": [
  {
   "cell_type": "code",
   "execution_count": null,
   "metadata": {},
   "outputs": [],
   "source": [
    "%matplotlib inline\n",
    "%matplotlib notebook"
   ]
  },
  {
   "cell_type": "code",
   "execution_count": null,
   "metadata": {},
   "outputs": [],
   "source": [
    "import scipy.stats as st\n",
    "import pandas as pd\n",
    "import matplotlib.pyplot as plt\n",
    "import numpy as np\n",
    "from pathlib import Path\n",
    "import re\n",
    "import hvplot.pandas\n",
    "import csv"
   ]
  },
  {
   "cell_type": "code",
   "execution_count": null,
   "metadata": {},
   "outputs": [],
   "source": [
    "abs_file = Path(\"Group Project Resources\\Average weekly ordinary time earnings, full-time adults by state, original.csv\")\n",
    "\n",
    "vehicle_file = Path(\"Group Project Resources\\Australian Vehicle Prices.csv\")\n",
    "\n",
    "\n",
    "# Define the file paths. Reading in Australian poscode csv from sql\n",
    "input_file_path = r'C:\\Users\\Anries-PC\\Documents\\Bootcamp - Data Analyst UWA\\Week 7\\07-Project-1-Week-1\\Starter_Code\\Group Project Resources\\australian-postcodes.csv'\n",
    "\n",
    "output_file_path = 'postcodes_geo.csv'\n",
    "\n",
    "# Regular expression pattern to extract values from INSERT INTO statements\n",
    "pattern = r\"\\('(.*?)', '(.*?)', '(.*?)', (.*?), (.*?)\\)\"\n",
    "\n",
    "# List to store extracted data\n",
    "data = []\n",
    "\n",
    "# Read the SQL-like file and extract data\n",
    "with open(input_file_path, 'r', encoding='utf-8') as file:\n",
    "    lines = file.readlines()\n",
    "    for line in lines:\n",
    "        match = re.findall(pattern, line)\n",
    "        if match:\n",
    "            data.extend(match)\n",
    "\n",
    "# Write extracted data to a CSV file\n",
    "with open(output_file_path, mode='w', newline='', encoding='utf-8') as csv_file:\n",
    "    writer = csv.writer(csv_file)\n",
    "    writer.writerow(['postcode', 'suburb', 'state', 'latitude', 'longitude'])  # Write header\n",
    "    writer.writerows(data)  # Write the extracted data\n",
    "\n",
    "print(f\"CSV file '{output_file_path}' has been created.\")"
   ]
  },
  {
   "cell_type": "code",
   "execution_count": null,
   "metadata": {},
   "outputs": [],
   "source": [
    "abs_df = pd.read_csv(abs_file, skiprows=1)\n",
    "abs_df.reset_index(inplace=True)\n",
    "\n",
    "vehicle_df = pd.read_csv(vehicle_file)\n",
    "\n",
    "\n",
    "postcode_file = Path(\"postcodes_geo.csv\")\n",
    "postcode_df = pd.read_csv(postcode_file)"
   ]
  },
  {
   "cell_type": "code",
   "execution_count": null,
   "metadata": {},
   "outputs": [],
   "source": [
    "vehicle_df = vehicle_df.dropna(how=\"any\")"
   ]
  },
  {
   "cell_type": "markdown",
   "metadata": {},
   "source": [
    "Get the average Weekly income of the each State in Australia"
   ]
  },
  {
   "cell_type": "code",
   "execution_count": null,
   "metadata": {},
   "outputs": [],
   "source": [
    "abs_df = abs_df.rename(columns={\"Unnamed: 0\": \"State\"})\n",
    "\n",
    "abs_df = abs_df[abs_df['State'] != \"Source: Australian Bureau of Statistics, Average Weekly Earnings, Australia May 2023\"]\n",
    "\n",
    "columns_to_convert = ['Persons ($)', 'Males ($)', 'Females ($)']\n",
    "abs_df[columns_to_convert] = abs_df[columns_to_convert].apply(lambda x: x.str.replace(',', '').astype(float))\n",
    "\n"
   ]
  },
  {
   "cell_type": "code",
   "execution_count": null,
   "metadata": {},
   "outputs": [],
   "source": [
    "print(abs_df.dtypes)"
   ]
  },
  {
   "cell_type": "code",
   "execution_count": null,
   "metadata": {},
   "outputs": [],
   "source": [
    "average_abs = abs_df.drop(columns=[\"Males ($)\", \"Females ($)\"])"
   ]
  },
  {
   "cell_type": "code",
   "execution_count": null,
   "metadata": {},
   "outputs": [],
   "source": [
    "average_abs = average_abs.set_index(\"State\")"
   ]
  },
  {
   "cell_type": "code",
   "execution_count": null,
   "metadata": {},
   "outputs": [],
   "source": [
    "new_states = {\"Tas.\": \"TAS\", \"Vic.\": \"VIC\"}\n",
    "average_abs = average_abs.rename(index=new_states)\n",
    "average_abs"
   ]
  },
  {
   "cell_type": "code",
   "execution_count": null,
   "metadata": {},
   "outputs": [],
   "source": [
    "average_abs = average_abs.reset_index()"
   ]
  },
  {
   "cell_type": "code",
   "execution_count": null,
   "metadata": {},
   "outputs": [],
   "source": [
    "plt.bar(average_abs['State'], average_abs['Persons ($)'])\n",
    "\n",
    "\n",
    "plt.title(\"Average Weekly Income by State\")\n",
    "plt.ylabel(\"Weekly income ($)\")\n",
    "plt.xlabel(\"State\")\n",
    "plt.show()"
   ]
  },
  {
   "cell_type": "markdown",
   "metadata": {},
   "source": [
    "The first graph above (figure 1.0) shows the average weekly income by State from the Australian Buruea of Statistics (ABS). The data displays each state of Australia and their average weekly income. Western Austalia (WA) and Australian Capital Territory (ACT) has the highest weekly average income out of the other Australian states. Although ACT is one of higher average weekly income, this could be a result of the lower population density and high valued occupations in the state. Western Australia has the highest average weekly income with $2039.3, the high average weekly income may be affected due to the high income rate of western farmers. Although this is only a speculation to the data, further research may be needed for more data analysis.\n",
    "\n",
    "The rest of the states are relatively similar to one another, with Tasmania (TAS) and South Australia (SA) having the lowest average weekly income compared to the other states. With an average weekly income of $1619.3, Tasmania has the smallest average income and smaller population compared to the Australia (Aust.). Therefore, the result Tasmania having the least average income makes sense.\n",
    "\n",
    "The \"average weekly income by state\", will provide an indicator whether or not the weekly income has any correlation with the price of vehicle by state. Later in this question, a bar graph that showcase the vehicle price by state will be displayed to determine if there are any correlatio or if this there's a pattern in the dataset. \n",
    "\n"
   ]
  },
  {
   "cell_type": "markdown",
   "metadata": {},
   "source": [
    "Finding average vehicle price by State"
   ]
  },
  {
   "cell_type": "code",
   "execution_count": null,
   "metadata": {},
   "outputs": [],
   "source": [
    "new = vehicle_df['Location'].str.split(\", \", n=1, expand=True)\n",
    " \n",
    "# making separate first name column from new data frame\n",
    "vehicle_df[\"Suburb\"] = new[0]\n",
    " \n",
    "# making separate last name column from new data frame\n",
    "vehicle_df[\"State\"] = new[1]\n",
    " \n",
    "# Dropping old Name columns\n",
    "vehicle_df.drop(columns=[\"Location\"], inplace=True)\n"
   ]
  },
  {
   "cell_type": "code",
   "execution_count": null,
   "metadata": {},
   "outputs": [],
   "source": [
    "vehicle_df = vehicle_df.drop(columns=[\"UsedOrNew\", \"Transmission\", \"Engine\",\n",
    "                                             \"DriveType\", \"FuelType\", \"ColourExtInt\", \"CylindersinEngine\", \"BodyType\", \"FuelConsumption\", \"Doors\",\"Seats\",\"Kilometres\"])"
   ]
  },
  {
   "cell_type": "code",
   "execution_count": null,
   "metadata": {},
   "outputs": [],
   "source": [
    "vehicle_df.info"
   ]
  },
  {
   "cell_type": "code",
   "execution_count": null,
   "metadata": {},
   "outputs": [],
   "source": [
    "vehicle_df['Price'] = pd.to_numeric(vehicle_df['Price'], errors='coerce')"
   ]
  },
  {
   "cell_type": "code",
   "execution_count": null,
   "metadata": {},
   "outputs": [],
   "source": [
    "vehicle_df['Price'] = vehicle_df['Price'].fillna(0).astype(int)"
   ]
  },
  {
   "cell_type": "code",
   "execution_count": null,
   "metadata": {},
   "outputs": [],
   "source": [
    "aus_vehicle_agg = vehicle_df.groupby(\"State\")['Price'].agg([\"mean\", \"median\", \"var\",\"std\",\"sem\"])"
   ]
  },
  {
   "cell_type": "code",
   "execution_count": null,
   "metadata": {},
   "outputs": [],
   "source": [
    "aus_vehicle_agg = aus_vehicle_agg.reset_index()"
   ]
  },
  {
   "cell_type": "code",
   "execution_count": null,
   "metadata": {},
   "outputs": [],
   "source": [
    "merged_df = pd.merge(aus_vehicle_agg, average_abs, on=\"State\")\n",
    "merged_df"
   ]
  },
  {
   "cell_type": "code",
   "execution_count": null,
   "metadata": {},
   "outputs": [],
   "source": [
    "merged_df= merged_df.rename(columns={\"mean\": \"Average\"})"
   ]
  },
  {
   "cell_type": "code",
   "execution_count": null,
   "metadata": {},
   "outputs": [],
   "source": [
    "average_income_vehicle_price_state = merged_df.plot(kind=\"bar\", x=\"State\", y=[\"Average\"], color='lightgreen')\n",
    "\n",
    "plt.ylabel(\"Vehicle Price ($)\")\n",
    "plt.xlabel(\"State\")\n",
    "plt.title(\"Average Vehicle Price by State\")"
   ]
  },
  {
   "cell_type": "markdown",
   "metadata": {},
   "source": [
    "After finding the average weekly income by state, the next graph will be the vehicle prices by state (figure 1.1). The purpose of this graph is to find whether there's a pattern with the average weekly income and the average vehicle prices. In this graph, Western Australia has the highest vehicle prices on with $37,372.94. The given result suggest that, WA has the highest average weekly income and the highest vehicle prices as well. However, Tasmania has a high vehicle price and the average weekly income for the state is lower than the average Australian weekly income (figure 1.0). The average weekly income for Tasmania is $1,619.3 meanwhile the average vehicle price of Tasmania is $37,521.62 which makes earning a vehicle in TAS more difficult compared to the rest of states. \n",
    "\n",
    "South Austalia has the lowest average vehicle prices with $32,059.04 which correlates with the low weekly income of the state with only $1677.8 on average weekly. Australia Capital Territory however has a low average vehicle price with $32844.75 and a high average weekly income with $2,022.9. This could be due to the population density and the lack of expensive cars imported into the state. \n",
    "\n",
    "The average vehicle price by state is less accurate than finding which location of Australia's suburbs have the highest vehicle price. The next graph will showcase the suburbs of which the highest vehicle prices are located in Australia. "
   ]
  },
  {
   "cell_type": "markdown",
   "metadata": {},
   "source": [
    "Finding the top Vehicle Prices by Suburb"
   ]
  },
  {
   "cell_type": "code",
   "execution_count": null,
   "metadata": {},
   "outputs": [],
   "source": [
    "postcode_df = postcode_df.rename(columns={\"suburb\": \"Suburb\"})\n",
    "postcode_df"
   ]
  },
  {
   "cell_type": "code",
   "execution_count": null,
   "metadata": {},
   "outputs": [],
   "source": [
    "postcode_duplicates = postcode_df.drop_duplicates(subset=\"Suburb\")\n",
    "postcode_duplicates"
   ]
  },
  {
   "cell_type": "code",
   "execution_count": null,
   "metadata": {},
   "outputs": [],
   "source": [
    "grouped_suburb = vehicle_df.groupby('Suburb').apply(lambda x: x.reset_index(drop=True))\n",
    "\n",
    "def calculate_numeric_price(group):\n",
    "    numeric_prices = pd.to_numeric(group['Price'], errors='coerce')\n",
    "    numeric_prices = numeric_prices[~np.isnan(numeric_prices)]\n",
    "    if numeric_prices.empty:\n",
    "        return pd.Series({'Numeric_Price_Mean': np.nan})\n",
    "    else:\n",
    "        return pd.Series({'Numeric_Price_Mean': numeric_prices.mean()})\n",
    "\n",
    "# Grouping by 'Suburb' and calculating mean of numeric prices\n",
    "numeric_price_stats = vehicle_df.groupby('Suburb').apply(calculate_numeric_price).reset_index()\n",
    "\n",
    "# print(numeric_price_stats)\n",
    "pd.DataFrame(numeric_price_stats)\n",
    "\n",
    "numeric_price_stats_sorted = numeric_price_stats.sort_values(by='Numeric_Price_Mean', ascending=False)\n",
    "print(pd.DataFrame(numeric_price_stats_sorted))"
   ]
  },
  {
   "cell_type": "code",
   "execution_count": null,
   "metadata": {},
   "outputs": [],
   "source": [
    "grouped_suburb = vehicle_df.loc[:, \"Suburb\"]\n",
    "\n",
    "grouped_suburb.describe()"
   ]
  },
  {
   "cell_type": "code",
   "execution_count": null,
   "metadata": {},
   "outputs": [],
   "source": [
    "lon_lat_merged = pd.merge(grouped_suburb, postcode_duplicates, on=\"Suburb\", how=\"inner\")\n",
    "\n",
    "lon_lat_merged = lon_lat_merged.drop_duplicates()\n",
    "\n",
    "unique_suburbs =lon_lat_merged['Suburb'].nunique()\n",
    "unique_suburbs"
   ]
  },
  {
   "cell_type": "code",
   "execution_count": null,
   "metadata": {},
   "outputs": [],
   "source": [
    "merged_coordinates_aus_vehicle = pd.merge(vehicle_df, lon_lat_merged, on=\"Suburb\", how=\"inner\")\n",
    "\n",
    "merged_coordinates_aus_vehicle['Price'] = pd.to_numeric(merged_coordinates_aus_vehicle['Price'], errors='coerce')"
   ]
  },
  {
   "cell_type": "code",
   "execution_count": null,
   "metadata": {},
   "outputs": [],
   "source": [
    "grouped_suburb = merged_coordinates_aus_vehicle.groupby([\"Suburb\"])\n",
    "\n",
    "\n",
    "agg_price_loc = grouped_suburb['Price'].agg([\"mean\", \"median\", \"var\",\"std\",\"sem\"])\n",
    "\n",
    "suburb_grouped = vehicle_df.groupby([\"Suburb\"])\n",
    "\n",
    "agg_price_loc\n",
    "\n",
    "# mean_suburb_price = suburb_grouped['Price'].mean()\n",
    "\n",
    "# suburb_grouped['Price'] = suburb_grouped['Price'].replace('POA', pd.NA)"
   ]
  },
  {
   "cell_type": "code",
   "execution_count": null,
   "metadata": {},
   "outputs": [],
   "source": [
    "top_highest_price = agg_price_loc['mean'].nlargest(10)\n",
    "top_highest_price = pd.DataFrame(top_highest_price)\n",
    "top_highest_price"
   ]
  },
  {
   "cell_type": "code",
   "execution_count": null,
   "metadata": {},
   "outputs": [],
   "source": [
    "top_price_location = pd.merge(top_highest_price, merged_coordinates_aus_vehicle, on=\"Suburb\", how=\"inner\")\n",
    "top_price_location['Suburb'].unique()"
   ]
  },
  {
   "cell_type": "code",
   "execution_count": null,
   "metadata": {},
   "outputs": [],
   "source": [
    "top_price_location.hvplot.points(\"longitude\", \"latitude\", geo=True, tiles = \"OSM\",frame_width = 800,frame_height = 800)"
   ]
  },
  {
   "cell_type": "markdown",
   "metadata": {},
   "source": [
    "The map above describes the location of the top 10 highest average vehicle prices located by suburbs. The data shows that numerous high vehicle prices are located in Sydney, Melbourne and Perth. The highest average vehicle price being the Rushcutters Bay with an average of $250,849.09 in Sydney NSW. Whilst Geelong West having the second highest average vehicle prices with an average of $152,356.0 and Medindine having the third highest average vehicle price with $127688.0. Surprisingly the suburb with the highest average vehicle price from Perth is the Nedlands, with an average vehicle price of $123,200.00. "
   ]
  },
  {
   "cell_type": "code",
   "execution_count": null,
   "metadata": {
    "scrolled": false
   },
   "outputs": [],
   "source": [
    "top_highest_price.plot(kind=\"bar\", color=\"lightgreen\", figsize=(8,8))\n",
    "plt.xticks(rotation=45)\n",
    "\n",
    "plt.title(\"Top Suburb with the highest Average Vehicle Price\")\n",
    "plt.ylabel(\"Price\")\n",
    "plt.xlabel(\"Top Suburb\")\n",
    "\n",
    "plt.show()"
   ]
  },
  {
   "cell_type": "markdown",
   "metadata": {},
   "source": [
    "The final graph showcases the top 10 highest average vehicle prices by suburbs in a bar chart to display the average price difference compared to other suburbs in the list. "
   ]
  },
  {
   "cell_type": "code",
   "execution_count": null,
   "metadata": {},
   "outputs": [],
   "source": [
    "top_highest_price=top_highest_price.reset_index()\n",
    "top_highest_price"
   ]
  },
  {
   "cell_type": "code",
   "execution_count": null,
   "metadata": {},
   "outputs": [],
   "source": [
    "top_highest_price['percentage'] = (top_highest_price['mean'] / top_highest_price['mean'].sum()) * 100\n",
    "\n",
    "# Create a pie chart\n",
    "plt.figure(figsize=(8, 8))\n",
    "plt.pie(top_highest_price['percentage'], labels=top_highest_price['Suburb'], autopct='%1.1f%%', startangle=140)\n",
    "plt.title('Pie Chart of mean percentage by Suburb')\n",
    "plt.show()"
   ]
  },
  {
   "cell_type": "code",
   "execution_count": null,
   "metadata": {},
   "outputs": [],
   "source": []
  },
  {
   "cell_type": "code",
   "execution_count": null,
   "metadata": {},
   "outputs": [],
   "source": []
  }
 ],
 "metadata": {
  "kernelspec": {
   "display_name": "Python 3 (ipykernel)",
   "language": "python",
   "name": "python3"
  },
  "language_info": {
   "codemirror_mode": {
    "name": "ipython",
    "version": 3
   },
   "file_extension": ".py",
   "mimetype": "text/x-python",
   "name": "python",
   "nbconvert_exporter": "python",
   "pygments_lexer": "ipython3",
   "version": "3.11.5"
  }
 },
 "nbformat": 4,
 "nbformat_minor": 2
}
